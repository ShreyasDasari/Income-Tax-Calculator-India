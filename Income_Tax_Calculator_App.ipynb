{
  "cells": [
    {
      "cell_type": "markdown",
      "metadata": {
        "id": "oeaDPTlTtTvq"
      },
      "source": [
        "# **Income Tax Calculator India App**\n",
        "\n",
        "*Author: Shreyas Dasari*\n",
        "\n",
        "## Objective:\n",
        "\n",
        "Build a Python program that calculates tax liability for both Old and New tax regimes based on the user's annual income. The Old Regime should allow deductions, while the New Regime should not. Finally, display which regime is more beneficial.\n",
        "\n",
        "## Tax Rules\n",
        "\n",
        "### Old Regime Slabs\n",
        "\n",
        "● 0 - 2,50,000 → 0%\n",
        "\n",
        "● 2,50,001 - 5,00,000 → 5%\n",
        "\n",
        "● 5,00,001 - 10,00,000 → 20%\n",
        "\n",
        "● Above 10,00,000 → 30% (Deductions allowed, for example 80C, 80D, Standard Deduction)\n",
        "\n",
        "### New Regime Slabs\n",
        "\n",
        "● 0 - 2,50,000 → 0%\n",
        "\n",
        "● 2,50,001 - 5,00,000 → 5%\n",
        "\n",
        "● 5,00,001 - 7,50,000 → 10%\n",
        "\n",
        "● 7,50,001 - 10,00,000 → 15%\n",
        "\n",
        "● 10,00,001 - 12,50,000 → 20%\n",
        "\n",
        "● 12,50,001 - 15,00,000 → 25%\n",
        "\n",
        "● Above 15,00,000 → 30% (No deductions allowed)\n",
        "\n",
        "## Requirements:\n",
        "\n",
        "1. **Inputs:**\n",
        "\n",
        "○ Annual Salary\n",
        "\n",
        "○ Total deductions (HRA, PF, 80C, etc.) applicable only for Old Regime\n",
        "\n",
        "2. **Process:**\n",
        "\n",
        "○ Calculate taxable income under Old Regime = Salary - Deductions\n",
        "\n",
        "○ Apply slabs progressively for both regimes\n",
        "\n",
        "○ Add 4% cess to total tax\n",
        "\n",
        "3. **Outputs:**\n",
        "\n",
        "○ Old Regime Tax, Taxable Income, and Take-home salary\n",
        "\n",
        "○ New Regime Tax and Take-home salary\n",
        "\n",
        "○ Which regime is better with savings amount\n",
        "\n",
        "4. **Bonus Features:**\n",
        "\n",
        "○ Show detailed slab-wise breakdown for both regimes\n",
        "\n",
        "○ Validate inputs (negative values not allowed)\n",
        "\n",
        "○ Allow multiple calculations in one run\n",
        "\n",
        "\n",
        "## Example Run:\n",
        "\n",
        "**Enter your Annual Salary:** 1200000\n",
        "\n",
        "**Enter total deductions (Old Regime):** 150000\n",
        "\n",
        "**Old Regime:**\n",
        "\n",
        "Taxable Income = 1050000\n",
        "\n",
        "Tax: 0-2.5L @ 0% = 0\n",
        "\n",
        "2.5L-5L @ 5% = 12500\n",
        "\n",
        "5L-10L @ 20% = 100000\n",
        "\n",
        "10L-10.5L @ 30% = 15000\n",
        "\n",
        "Base Tax = 127500\n",
        "\n",
        "Cess (4%) = 5100\n",
        "\n",
        "Total Tax = 132600\n",
        "\n",
        "Take-home Salary = 1067400\n",
        "\n",
        "**New Regime:**\n",
        "\n",
        "Taxable Income = 1200000 (No deductions)\n",
        "\n",
        "Base Tax = 150000\n",
        "\n",
        "Cess (4%) = 6000\n",
        "\n",
        "Total Tax = 156000\n",
        "\n",
        "Take-home Salary = 1044000\n",
        "\n",
        "**Better Option: Old Regime (Save 23400)**\n"
      ]
    },
    {
      "cell_type": "code",
      "execution_count": 1,
      "metadata": {
        "colab": {
          "base_uri": "https://localhost:8080/"
        },
        "id": "rm4DAF-GLBww",
        "outputId": "ca72a959-cd66-430f-e8b1-c135ba8026e3"
      },
      "outputs": [
        {
          "name": "stdout",
          "output_type": "stream",
          "text": [
            "Taxable income:  550000\n",
            "Taxable income new regime:  800000\n"
          ]
        }
      ],
      "source": [
        "# Take the input values\n",
        "annual_sal = int(input(\"Enter the annual salary: \"))\n",
        "tot_deductions = int(input(\"Enter the total deductions: \"))\n",
        "\n",
        "taxable_income = annual_sal - tot_deductions\n",
        "taxable_income_new = annual_sal - 0\n",
        "print(\"Taxable income: \", taxable_income)\n",
        "print(\"Taxable income new regime: \", taxable_income_new)"
      ]
    },
    {
      "cell_type": "code",
      "execution_count": 2,
      "metadata": {
        "id": "xuEZ_A4eLk2X"
      },
      "outputs": [],
      "source": [
        "# Old regime\n",
        "def old_regime_tax(annual_sal, tot_deductions):\n",
        "  if annual_sal < 250000:\n",
        "    tax = taxable_income * 0\n",
        "  elif annual_sal >= 250000 and annual_sal <= 500000:\n",
        "    tax = taxable_income * 0.05\n",
        "  elif annual_sal > 500000 and annual_sal <= 1000000:\n",
        "    tax = taxable_income * 0.2\n",
        "  else:\n",
        "    tax = taxable_income * 0.3\n",
        "  return tax"
      ]
    },
    {
      "cell_type": "code",
      "execution_count": 3,
      "metadata": {
        "colab": {
          "base_uri": "https://localhost:8080/"
        },
        "id": "bvAPWwmGOWDW",
        "outputId": "6b224f98-d28c-4cd3-d929-4d8538843b20"
      },
      "outputs": [
        {
          "data": {
            "text/plain": [
              "110000.0"
            ]
          },
          "execution_count": 3,
          "metadata": {},
          "output_type": "execute_result"
        }
      ],
      "source": [
        "# Calculate old regime tax\n",
        "oldtax = old_regime_tax(annual_sal, tot_deductions)\n",
        "oldtax"
      ]
    },
    {
      "cell_type": "code",
      "execution_count": 4,
      "metadata": {
        "id": "KRBXFrTCOYJc"
      },
      "outputs": [],
      "source": [
        "# Calculating the cess of 4%\n",
        "def cess(oldtax):\n",
        "  cess = oldtax * 0.04\n",
        "  return cess"
      ]
    },
    {
      "cell_type": "code",
      "execution_count": 5,
      "metadata": {
        "colab": {
          "base_uri": "https://localhost:8080/"
        },
        "id": "4AKMae8JQ-s3",
        "outputId": "b3e186aa-dfa8-4591-a7b0-4c979e136a45"
      },
      "outputs": [
        {
          "data": {
            "text/plain": [
              "114400.0"
            ]
          },
          "execution_count": 5,
          "metadata": {},
          "output_type": "execute_result"
        }
      ],
      "source": [
        "# Adding Cess to old tax\n",
        "total_old_tax = oldtax + cess(oldtax)\n",
        "total_old_tax"
      ]
    },
    {
      "cell_type": "code",
      "execution_count": 6,
      "metadata": {
        "colab": {
          "base_uri": "https://localhost:8080/"
        },
        "id": "SM6fXFIIRSJg",
        "outputId": "f445251b-6517-4d3d-cc21-7f4e1a884343"
      },
      "outputs": [
        {
          "data": {
            "text/plain": [
              "120000.0"
            ]
          },
          "execution_count": 6,
          "metadata": {},
          "output_type": "execute_result"
        }
      ],
      "source": [
        "# New regime\n",
        "def new_regime_tax(annual_sal):\n",
        "  if annual_sal < 250000:\n",
        "    tax = taxable_income_new * 0\n",
        "  elif annual_sal >= 250000 and annual_sal <= 500000:\n",
        "    tax = taxable_income_new * 0.05\n",
        "  elif annual_sal > 500000 and annual_sal <= 750000:\n",
        "    tax = taxable_income_new * 0.1\n",
        "  elif annual_sal > 750000 and annual_sal <= 1000000:\n",
        "    tax = taxable_income_new * 0.15\n",
        "  elif annual_sal > 1000000 and annual_sal <= 1250000:\n",
        "    tax = taxable_income_new * 0.2\n",
        "  elif annual_sal > 1250000 and annual_sal <= 1500000:\n",
        "    tax = taxable_income_new * 0.25\n",
        "  else:\n",
        "    tax = taxable_income_new * 0.3\n",
        "  return tax\n",
        "\n",
        "new_tax = new_regime_tax(annual_sal)\n",
        "new_tax"
      ]
    },
    {
      "cell_type": "code",
      "execution_count": 7,
      "metadata": {
        "id": "vz08H9kwSQfR"
      },
      "outputs": [],
      "source": [
        "# Calculating the cess of 4% using new_tax\n",
        "def cess_new(new_tax):\n",
        "  cess = new_tax * 0.04\n",
        "  return cess"
      ]
    },
    {
      "cell_type": "code",
      "execution_count": 8,
      "metadata": {
        "colab": {
          "base_uri": "https://localhost:8080/"
        },
        "id": "Vh167K7JTKW6",
        "outputId": "1642b757-c520-498c-c870-d0c6f92f834d"
      },
      "outputs": [
        {
          "data": {
            "text/plain": [
              "124800.0"
            ]
          },
          "execution_count": 8,
          "metadata": {},
          "output_type": "execute_result"
        }
      ],
      "source": [
        "# Adding Cess to new tax\n",
        "total_new_tax = new_tax + cess_new(new_tax)\n",
        "total_new_tax"
      ]
    },
    {
      "cell_type": "code",
      "execution_count": 9,
      "metadata": {
        "colab": {
          "base_uri": "https://localhost:8080/"
        },
        "id": "IFvCIxH7TMsT",
        "outputId": "8affb433-7043-4e46-fd88-c00eec1c3f00"
      },
      "outputs": [
        {
          "name": "stdout",
          "output_type": "stream",
          "text": [
            "Take home old regime:  685600.0\n",
            "Take home new regime:  675200.0\n"
          ]
        }
      ],
      "source": [
        "# Final take home salary using both the regimes\n",
        "take_home_old = annual_sal - total_old_tax\n",
        "take_home_new = annual_sal - total_new_tax\n",
        "print(\"Take home old regime: \", take_home_old)\n",
        "print(\"Take home new regime: \", take_home_new)"
      ]
    },
    {
      "cell_type": "code",
      "execution_count": 10,
      "metadata": {
        "id": "JYhzAiMcYQnU"
      },
      "outputs": [],
      "source": [
        "def format_currency(amount):\n",
        "        return f\"₹{amount:,.2f}\""
      ]
    },
    {
      "cell_type": "code",
      "execution_count": 11,
      "metadata": {
        "id": "HZ7-68wMTou8"
      },
      "outputs": [],
      "source": [
        "# Better option to save money\n",
        "def better_option(take_home_old, take_home_new):\n",
        "  if take_home_old > take_home_new:\n",
        "    return f\"Old regime is better. You Save: {format_currency(take_home_old - take_home_new)}\"\n",
        "  else:\n",
        "    return f\"New regime is better. You Save: {format_currency(take_home_new - take_home_old)}\""
      ]
    },
    {
      "cell_type": "code",
      "execution_count": 12,
      "metadata": {
        "colab": {
          "base_uri": "https://localhost:8080/",
          "height": 35
        },
        "id": "mrtAV9P2URXH",
        "outputId": "cca84e54-212e-456f-e5ad-43e8f94b995e"
      },
      "outputs": [
        {
          "data": {
            "text/plain": [
              "'Old regime is better. You Save: ₹10,400.00'"
            ]
          },
          "execution_count": 12,
          "metadata": {},
          "output_type": "execute_result"
        }
      ],
      "source": [
        "better_option(take_home_old, take_home_new)"
      ]
    },
    {
      "cell_type": "code",
      "execution_count": 13,
      "metadata": {
        "colab": {
          "base_uri": "https://localhost:8080/"
        },
        "id": "Nhwr57D4s2bl",
        "outputId": "a06641a7-cd83-4b7b-ed57-02fda4b8bb75"
      },
      "outputs": [
        {
          "name": "stdout",
          "output_type": "stream",
          "text": [
            "============================================================\n",
            "INDIAN INCOME TAX CALCULATOR\n",
            "Financial Year 2023-24\n",
            "============================================================\n",
            "Enter your annual salary (₹): 800000\n",
            "Deductions include: 80C, 80D, HRA, LTA, etc.\n",
            "(Note: Deductions are only applicable in Old Regime)\n",
            "Enter total deductions (₹): 250000\n",
            "============================================================\n",
            "INCOME TAX CALCULATION SUMMARY\n",
            "============================================================\n",
            "\n",
            "Gross Annual Salary: ₹800,000.00\n",
            "Deductions Claimed: ₹250,000.00\n",
            "\n",
            "------------------------------------------------------------\n",
            "OLD TAX REGIME\n",
            "------------------------------------------------------------\n",
            "Taxable Income: ₹550,000.00\n",
            "Income Tax: ₹110,000.00\n",
            "Education & Health Cess (4%): ₹4,400.00\n",
            "Total Tax Payable: ₹114,400.00\n",
            "Take Home Salary: ₹685,600.00\n",
            "\n",
            "------------------------------------------------------------\n",
            "NEW TAX REGIME\n",
            "------------------------------------------------------------\n",
            "Taxable Income: ₹800,000.00\n",
            "Income Tax: ₹120,000.00\n",
            "Education & Health Cess (4%): ₹4,800.00\n",
            "Total Tax Payable: ₹124,800.00\n",
            "Take Home Salary: ₹675,200.00\n",
            "\n",
            "============================================================\n",
            "RECOMMENDATION\n",
            "============================================================\n",
            "\n",
            "Old regime is better. You Save: ₹10,400.00\n",
            "\n",
            "============================================================\n"
          ]
        }
      ],
      "source": [
        "def tax_report():\n",
        "    # Print report\n",
        "    print(\"=\"*60)\n",
        "    print(\"INDIAN INCOME TAX CALCULATOR\")\n",
        "    print(\"Financial Year 2023-24\")\n",
        "    print(\"=\"*60)\n",
        "    print(f\"Enter your annual salary (₹): {annual_sal}\")\n",
        "    print(\"Deductions include: 80C, 80D, HRA, LTA, etc.\")\n",
        "    print(\"(Note: Deductions are only applicable in Old Regime)\")\n",
        "    print(f\"Enter total deductions (₹): {tot_deductions}\")\n",
        "    print(\"=\"*60)\n",
        "    print(\"INCOME TAX CALCULATION SUMMARY\")\n",
        "    print(\"=\"*60)\n",
        "    print()\n",
        "    print(f\"Gross Annual Salary: {format_currency(annual_sal)}\")\n",
        "    print(f\"Deductions Claimed: {format_currency(tot_deductions)}\")\n",
        "    print()\n",
        "    print(\"-\"*60)\n",
        "    print(\"OLD TAX REGIME\")\n",
        "    print(\"-\"*60)\n",
        "    print(f\"Taxable Income: {format_currency(taxable_income)}\")\n",
        "    print(f\"Income Tax: {format_currency(oldtax)}\")\n",
        "    print(f\"Education & Health Cess (4%): {format_currency(cess(oldtax))}\")\n",
        "    print(f\"Total Tax Payable: {format_currency(total_old_tax)}\")\n",
        "    print(f\"Take Home Salary: {format_currency(take_home_old)}\")\n",
        "    print()\n",
        "    print(\"-\"*60)\n",
        "    print(\"NEW TAX REGIME\")\n",
        "    print(\"-\"*60)\n",
        "    print(f\"Taxable Income: {format_currency(taxable_income_new)}\")\n",
        "    print(f\"Income Tax: {format_currency(new_tax)}\")\n",
        "    print(f\"Education & Health Cess (4%): {format_currency(cess_new(new_tax))}\")\n",
        "    print(f\"Total Tax Payable: {format_currency(total_new_tax)}\")\n",
        "    print(f\"Take Home Salary: {format_currency(take_home_new)}\")\n",
        "    print()\n",
        "    print(\"=\"*60)\n",
        "    print(\"RECOMMENDATION\")\n",
        "    print(\"=\"*60)\n",
        "    print()\n",
        "    print(better_option(take_home_old, take_home_new))\n",
        "    print()\n",
        "    print(\"=\"*60)\n",
        "\n",
        "tax_report()"
      ]
    }
  ],
  "metadata": {
    "colab": {
      "provenance": []
    },
    "kernelspec": {
      "display_name": "base",
      "language": "python",
      "name": "python3"
    },
    "language_info": {
      "codemirror_mode": {
        "name": "ipython",
        "version": 3
      },
      "file_extension": ".py",
      "mimetype": "text/x-python",
      "name": "python",
      "nbconvert_exporter": "python",
      "pygments_lexer": "ipython3",
      "version": "3.12.4"
    }
  },
  "nbformat": 4,
  "nbformat_minor": 0
}
